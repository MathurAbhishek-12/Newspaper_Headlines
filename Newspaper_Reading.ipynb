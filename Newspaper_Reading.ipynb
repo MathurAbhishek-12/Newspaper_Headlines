{
 "cells": [
  {
   "cell_type": "code",
   "execution_count": 3,
   "id": "50ea2e52",
   "metadata": {},
   "outputs": [],
   "source": [
    "import requests\n",
    "import json\n",
    "\n"
   ]
  },
  {
   "cell_type": "code",
   "execution_count": null,
   "id": "bc85f856",
   "metadata": {},
   "outputs": [],
   "source": [
    "def speak(str):\n",
    "    from win32com.client import Dispatch\n",
    "    speak = Dispatch(\"SAPI.SpVoice\")\n",
    "    speak.Speak(str)\n",
    "\n",
    "if __name__ == '__main__':\n",
    "    speak(\"News for today.. Lets begin\")\n",
    "    url = \"https://newsapi.org/v2/top-headlines?sources=the-times-of-india&apiKey=d093053d72bc40248998159804e0e67d\"\n",
    "    news = requests.get(url).text\n",
    "    news_dict = json.loads(news)\n",
    "    arts = news_dict['articles']\n",
    "    for article in arts:\n",
    "        speak(article['title'])\n",
    "        print(article['title'])\n",
    "        speak(\"Moving on to the next news..Listen Carefully\")\n",
    "\n",
    "    speak(\"Thanks for listening...\")"
   ]
  }
 ],
 "metadata": {
  "kernelspec": {
   "display_name": "Python 3",
   "language": "python",
   "name": "python3"
  },
  "language_info": {
   "codemirror_mode": {
    "name": "ipython",
    "version": 3
   },
   "file_extension": ".py",
   "mimetype": "text/x-python",
   "name": "python",
   "nbconvert_exporter": "python",
   "pygments_lexer": "ipython3",
   "version": "3.8.8"
  }
 },
 "nbformat": 4,
 "nbformat_minor": 5
}
